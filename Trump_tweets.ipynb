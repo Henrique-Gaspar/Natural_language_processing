{
  "nbformat": 4,
  "nbformat_minor": 0,
  "metadata": {
    "colab": {
      "name": "Trump_tweets",
      "provenance": [],
      "collapsed_sections": []
    },
    "kernelspec": {
      "name": "python3",
      "display_name": "Python 3"
    }
  },
  "cells": [
    {
      "cell_type": "code",
      "metadata": {
        "colab": {
          "base_uri": "https://localhost:8080/"
        },
        "id": "PxJiDC25w5CN",
        "outputId": "aff1a1af-248b-4b28-f409-3dd0ac9a94bc"
      },
      "source": [
        "import pandas as pd\n",
        "import numpy as np\n",
        "import matplotlib.pyplot as plt\n",
        "import seaborn as sns\n",
        "import nltk\n",
        "nltk.download('vader_lexicon')\n",
        "from nltk.sentiment.vader import SentimentIntensityAnalyzer"
      ],
      "execution_count": null,
      "outputs": [
        {
          "output_type": "stream",
          "text": [
            "[nltk_data] Downloading package vader_lexicon to /root/nltk_data...\n"
          ],
          "name": "stdout"
        }
      ]
    },
    {
      "cell_type": "markdown",
      "metadata": {
        "id": "3FV5d9YtBlvW"
      },
      "source": [
        "### Importação e tratamento dos dados ###"
      ]
    },
    {
      "cell_type": "code",
      "metadata": {
        "colab": {
          "base_uri": "https://localhost:8080/",
          "height": 206
        },
        "id": "hdwhefjVyDIl",
        "outputId": "b98e411f-d8f2-44c6-9487-1546d2ad6bac"
      },
      "source": [
        "dados =pd.read_csv(\"Trumps Legcy.csv\")\n",
        "dados.head()"
      ],
      "execution_count": null,
      "outputs": [
        {
          "output_type": "execute_result",
          "data": {
            "text/html": [
              "<div>\n",
              "<style scoped>\n",
              "    .dataframe tbody tr th:only-of-type {\n",
              "        vertical-align: middle;\n",
              "    }\n",
              "\n",
              "    .dataframe tbody tr th {\n",
              "        vertical-align: top;\n",
              "    }\n",
              "\n",
              "    .dataframe thead th {\n",
              "        text-align: right;\n",
              "    }\n",
              "</style>\n",
              "<table border=\"1\" class=\"dataframe\">\n",
              "  <thead>\n",
              "    <tr style=\"text-align: right;\">\n",
              "      <th></th>\n",
              "      <th>id</th>\n",
              "      <th>text</th>\n",
              "      <th>device</th>\n",
              "      <th>favorites</th>\n",
              "      <th>retweets</th>\n",
              "      <th>date</th>\n",
              "    </tr>\n",
              "  </thead>\n",
              "  <tbody>\n",
              "    <tr>\n",
              "      <th>0</th>\n",
              "      <td>98455000000000000</td>\n",
              "      <td>Republicans and Democrats have both created ou...</td>\n",
              "      <td>TweetDeck</td>\n",
              "      <td>49</td>\n",
              "      <td>255</td>\n",
              "      <td>8/2/2011 18:07</td>\n",
              "    </tr>\n",
              "    <tr>\n",
              "      <th>1</th>\n",
              "      <td>1234650000000000000</td>\n",
              "      <td>I was thrilled to be back in the Great city of...</td>\n",
              "      <td>Twitter for iPhone</td>\n",
              "      <td>73748</td>\n",
              "      <td>17404</td>\n",
              "      <td>3/3/2020 1:34</td>\n",
              "    </tr>\n",
              "    <tr>\n",
              "      <th>2</th>\n",
              "      <td>1218010000000000000</td>\n",
              "      <td>RT @CBS_Herridge: READ: Letter to surveillance...</td>\n",
              "      <td>Twitter for iPhone</td>\n",
              "      <td>0</td>\n",
              "      <td>7396</td>\n",
              "      <td>1/17/2020 3:22</td>\n",
              "    </tr>\n",
              "    <tr>\n",
              "      <th>3</th>\n",
              "      <td>1304880000000000000</td>\n",
              "      <td>The Unsolicited Mail In Ballot Scam is a major...</td>\n",
              "      <td>Twitter for iPhone</td>\n",
              "      <td>80527</td>\n",
              "      <td>23502</td>\n",
              "      <td>9/12/2020 20:10</td>\n",
              "    </tr>\n",
              "    <tr>\n",
              "      <th>4</th>\n",
              "      <td>1218160000000000000</td>\n",
              "      <td>RT @MZHemingway: Very friendly telling of even...</td>\n",
              "      <td>Twitter for iPhone</td>\n",
              "      <td>0</td>\n",
              "      <td>9081</td>\n",
              "      <td>1/17/2020 13:13</td>\n",
              "    </tr>\n",
              "  </tbody>\n",
              "</table>\n",
              "</div>"
            ],
            "text/plain": [
              "                    id  ...             date\n",
              "0    98455000000000000  ...   8/2/2011 18:07\n",
              "1  1234650000000000000  ...    3/3/2020 1:34\n",
              "2  1218010000000000000  ...   1/17/2020 3:22\n",
              "3  1304880000000000000  ...  9/12/2020 20:10\n",
              "4  1218160000000000000  ...  1/17/2020 13:13\n",
              "\n",
              "[5 rows x 6 columns]"
            ]
          },
          "metadata": {
            "tags": []
          },
          "execution_count": 385
        }
      ]
    },
    {
      "cell_type": "code",
      "metadata": {
        "id": "rSkaS3fP1s6X"
      },
      "source": [
        "dados.drop('id', axis=1, inplace=True)"
      ],
      "execution_count": null,
      "outputs": []
    },
    {
      "cell_type": "code",
      "metadata": {
        "id": "dmLrAHPc1xd3"
      },
      "source": [
        "dados['date'] = pd.to_datetime(dados['date'], format=\"%m/%d/%Y %H:%M\")"
      ],
      "execution_count": null,
      "outputs": []
    },
    {
      "cell_type": "code",
      "metadata": {
        "id": "d3-_9Yli4YQy"
      },
      "source": [
        "dados['date'] = dados['date'].map(lambda x: x.strftime(\"%Y-%m\"))"
      ],
      "execution_count": null,
      "outputs": []
    },
    {
      "cell_type": "code",
      "metadata": {
        "id": "a4Y6xEaSNM1-"
      },
      "source": [
        "dados['text'] = dados['text'].str.lower()"
      ],
      "execution_count": null,
      "outputs": []
    },
    {
      "cell_type": "code",
      "metadata": {
        "id": "OxwCLlf_CXBp"
      },
      "source": [
        "import re\n",
        "\n",
        "dados['text'] = dados['text'].apply(lambda x: re.sub(r'[\\@\\:\\_\\.\\;\\#\\\"\\'\\$\\%\\&]', \"\", str(x)))"
      ],
      "execution_count": null,
      "outputs": []
    },
    {
      "cell_type": "code",
      "metadata": {
        "colab": {
          "base_uri": "https://localhost:8080/",
          "height": 206
        },
        "id": "USz1hXHq4q1v",
        "outputId": "90b2ef92-f15a-4b9e-c6eb-ca1abe9cc8aa"
      },
      "source": [
        "dados.head()"
      ],
      "execution_count": null,
      "outputs": [
        {
          "output_type": "execute_result",
          "data": {
            "text/html": [
              "<div>\n",
              "<style scoped>\n",
              "    .dataframe tbody tr th:only-of-type {\n",
              "        vertical-align: middle;\n",
              "    }\n",
              "\n",
              "    .dataframe tbody tr th {\n",
              "        vertical-align: top;\n",
              "    }\n",
              "\n",
              "    .dataframe thead th {\n",
              "        text-align: right;\n",
              "    }\n",
              "</style>\n",
              "<table border=\"1\" class=\"dataframe\">\n",
              "  <thead>\n",
              "    <tr style=\"text-align: right;\">\n",
              "      <th></th>\n",
              "      <th>text</th>\n",
              "      <th>device</th>\n",
              "      <th>favorites</th>\n",
              "      <th>retweets</th>\n",
              "      <th>date</th>\n",
              "    </tr>\n",
              "  </thead>\n",
              "  <tbody>\n",
              "    <tr>\n",
              "      <th>0</th>\n",
              "      <td>republicans and democrats have both created ou...</td>\n",
              "      <td>TweetDeck</td>\n",
              "      <td>49</td>\n",
              "      <td>255</td>\n",
              "      <td>2011-08</td>\n",
              "    </tr>\n",
              "    <tr>\n",
              "      <th>1</th>\n",
              "      <td>i was thrilled to be back in the great city of...</td>\n",
              "      <td>Twitter for iPhone</td>\n",
              "      <td>73748</td>\n",
              "      <td>17404</td>\n",
              "      <td>2020-03</td>\n",
              "    </tr>\n",
              "    <tr>\n",
              "      <th>2</th>\n",
              "      <td>rt cbsherridge read letter to surveillance cou...</td>\n",
              "      <td>Twitter for iPhone</td>\n",
              "      <td>0</td>\n",
              "      <td>7396</td>\n",
              "      <td>2020-01</td>\n",
              "    </tr>\n",
              "    <tr>\n",
              "      <th>3</th>\n",
              "      <td>the unsolicited mail in ballot scam is a major...</td>\n",
              "      <td>Twitter for iPhone</td>\n",
              "      <td>80527</td>\n",
              "      <td>23502</td>\n",
              "      <td>2020-09</td>\n",
              "    </tr>\n",
              "    <tr>\n",
              "      <th>4</th>\n",
              "      <td>rt mzhemingway very friendly telling of events...</td>\n",
              "      <td>Twitter for iPhone</td>\n",
              "      <td>0</td>\n",
              "      <td>9081</td>\n",
              "      <td>2020-01</td>\n",
              "    </tr>\n",
              "  </tbody>\n",
              "</table>\n",
              "</div>"
            ],
            "text/plain": [
              "                                                text  ...     date\n",
              "0  republicans and democrats have both created ou...  ...  2011-08\n",
              "1  i was thrilled to be back in the great city of...  ...  2020-03\n",
              "2  rt cbsherridge read letter to surveillance cou...  ...  2020-01\n",
              "3  the unsolicited mail in ballot scam is a major...  ...  2020-09\n",
              "4  rt mzhemingway very friendly telling of events...  ...  2020-01\n",
              "\n",
              "[5 rows x 5 columns]"
            ]
          },
          "metadata": {
            "tags": []
          },
          "execution_count": 427
        }
      ]
    },
    {
      "cell_type": "markdown",
      "metadata": {
        "id": "JyByKPme2e6v"
      },
      "source": [
        "### Análise dos Sentimentos ###"
      ]
    },
    {
      "cell_type": "code",
      "metadata": {
        "id": "MAeNpIGG8RF0"
      },
      "source": [
        "sentiment = SentimentIntensityAnalyzer()"
      ],
      "execution_count": null,
      "outputs": []
    },
    {
      "cell_type": "code",
      "metadata": {
        "id": "PHR-b3UcUk47"
      },
      "source": [
        "sentiments = [sentiment.polarity_scores(i) for i in dados['text'].values]\n",
        "dados['Negative Score'] = [i['neg'] for i in sentiments]\n",
        "dados['Positivo Score'] = [i['pos'] for i in sentiments]\n",
        "dados['Neuter Score'] = [i['neu'] for i in sentiments]\n",
        "dados['Compound Score'] = [i['compound'] for i in sentiments]"
      ],
      "execution_count": null,
      "outputs": []
    },
    {
      "cell_type": "code",
      "metadata": {
        "id": "vSPHP8r3X9Aq"
      },
      "source": [
        "score = dados['Compound Score'].values"
      ],
      "execution_count": null,
      "outputs": []
    },
    {
      "cell_type": "code",
      "metadata": {
        "id": "FvBFmynjYN9z"
      },
      "source": [
        "t=[]\n",
        "for i in score:\n",
        "  if i >= 0.05:\n",
        "    t.append('Positive')\n",
        "  elif i <= -0.05:\n",
        "    t.append(\"Negative\")\n",
        "  else:\n",
        "    t.append('Neutral')\n",
        "\n",
        "dados['Sentiment'] = t"
      ],
      "execution_count": null,
      "outputs": []
    },
    {
      "cell_type": "code",
      "metadata": {
        "colab": {
          "base_uri": "https://localhost:8080/",
          "height": 310
        },
        "id": "7sck79KAYy66",
        "outputId": "678f2a30-d033-4518-cd3d-be068eb8c3ae"
      },
      "source": [
        "dados.head()"
      ],
      "execution_count": null,
      "outputs": [
        {
          "output_type": "execute_result",
          "data": {
            "text/html": [
              "<div>\n",
              "<style scoped>\n",
              "    .dataframe tbody tr th:only-of-type {\n",
              "        vertical-align: middle;\n",
              "    }\n",
              "\n",
              "    .dataframe tbody tr th {\n",
              "        vertical-align: top;\n",
              "    }\n",
              "\n",
              "    .dataframe thead th {\n",
              "        text-align: right;\n",
              "    }\n",
              "</style>\n",
              "<table border=\"1\" class=\"dataframe\">\n",
              "  <thead>\n",
              "    <tr style=\"text-align: right;\">\n",
              "      <th></th>\n",
              "      <th>text</th>\n",
              "      <th>device</th>\n",
              "      <th>favorites</th>\n",
              "      <th>retweets</th>\n",
              "      <th>date</th>\n",
              "      <th>Negative Score</th>\n",
              "      <th>Positivo Score</th>\n",
              "      <th>Neuter Score</th>\n",
              "      <th>Compound Score</th>\n",
              "      <th>Sentiment</th>\n",
              "    </tr>\n",
              "  </thead>\n",
              "  <tbody>\n",
              "    <tr>\n",
              "      <th>0</th>\n",
              "      <td>republicans and democrats have both created ou...</td>\n",
              "      <td>TweetDeck</td>\n",
              "      <td>49</td>\n",
              "      <td>255</td>\n",
              "      <td>2011-08</td>\n",
              "      <td>0.231</td>\n",
              "      <td>0.171</td>\n",
              "      <td>0.598</td>\n",
              "      <td>-0.1779</td>\n",
              "      <td>Negative</td>\n",
              "    </tr>\n",
              "    <tr>\n",
              "      <th>1</th>\n",
              "      <td>i was thrilled to be back in the great city of...</td>\n",
              "      <td>Twitter for iPhone</td>\n",
              "      <td>73748</td>\n",
              "      <td>17404</td>\n",
              "      <td>2020-03</td>\n",
              "      <td>0.000</td>\n",
              "      <td>0.447</td>\n",
              "      <td>0.553</td>\n",
              "      <td>0.9792</td>\n",
              "      <td>Positive</td>\n",
              "    </tr>\n",
              "    <tr>\n",
              "      <th>2</th>\n",
              "      <td>rt cbsherridge read letter to surveillance cou...</td>\n",
              "      <td>Twitter for iPhone</td>\n",
              "      <td>0</td>\n",
              "      <td>7396</td>\n",
              "      <td>2020-01</td>\n",
              "      <td>0.000</td>\n",
              "      <td>0.000</td>\n",
              "      <td>1.000</td>\n",
              "      <td>0.0000</td>\n",
              "      <td>Neutral</td>\n",
              "    </tr>\n",
              "    <tr>\n",
              "      <th>3</th>\n",
              "      <td>the unsolicited mail in ballot scam is a major...</td>\n",
              "      <td>Twitter for iPhone</td>\n",
              "      <td>80527</td>\n",
              "      <td>23502</td>\n",
              "      <td>2020-09</td>\n",
              "      <td>0.294</td>\n",
              "      <td>0.000</td>\n",
              "      <td>0.706</td>\n",
              "      <td>-0.9551</td>\n",
              "      <td>Negative</td>\n",
              "    </tr>\n",
              "    <tr>\n",
              "      <th>4</th>\n",
              "      <td>rt mzhemingway very friendly telling of events...</td>\n",
              "      <td>Twitter for iPhone</td>\n",
              "      <td>0</td>\n",
              "      <td>9081</td>\n",
              "      <td>2020-01</td>\n",
              "      <td>0.000</td>\n",
              "      <td>0.143</td>\n",
              "      <td>0.857</td>\n",
              "      <td>0.5413</td>\n",
              "      <td>Positive</td>\n",
              "    </tr>\n",
              "  </tbody>\n",
              "</table>\n",
              "</div>"
            ],
            "text/plain": [
              "                                                text  ... Sentiment\n",
              "0  republicans and democrats have both created ou...  ...  Negative\n",
              "1  i was thrilled to be back in the great city of...  ...  Positive\n",
              "2  rt cbsherridge read letter to surveillance cou...  ...   Neutral\n",
              "3  the unsolicited mail in ballot scam is a major...  ...  Negative\n",
              "4  rt mzhemingway very friendly telling of events...  ...  Positive\n",
              "\n",
              "[5 rows x 10 columns]"
            ]
          },
          "metadata": {
            "tags": []
          },
          "execution_count": 432
        }
      ]
    },
    {
      "cell_type": "markdown",
      "metadata": {
        "id": "qtd8xnIkBxxd"
      },
      "source": [
        "### Explorando os dados ###"
      ]
    },
    {
      "cell_type": "code",
      "metadata": {
        "colab": {
          "base_uri": "https://localhost:8080/",
          "height": 312
        },
        "id": "IaT5TUGqY6-P",
        "outputId": "16ab7f2f-3215-4a14-96e3-aa1847e89978"
      },
      "source": [
        "sns.histplot(data=dados, x='Compound Score', hue='Sentiment').set_title(\"Distribuição de Sentimento\")"
      ],
      "execution_count": null,
      "outputs": [
        {
          "output_type": "execute_result",
          "data": {
            "text/plain": [
              "Text(0.5, 1.0, 'Distribuição de Sentimento')"
            ]
          },
          "metadata": {
            "tags": []
          },
          "execution_count": 433
        },
        {
          "output_type": "display_data",
          "data": {
            "image/png": "[encoded data removed]",
            "text/plain": [
              "<Figure size 432x288 with 1 Axes>"
            ]
          },
          "metadata": {
            "tags": [],
            "needs_background": "light"
          }
        }
      ]
    },
    {
      "cell_type": "code",
      "metadata": {
        "colab": {
          "base_uri": "https://localhost:8080/",
          "height": 296
        },
        "id": "6xHKQl48ddMy",
        "outputId": "f5f486ae-db07-4340-86e3-24b3f8a5acd1"
      },
      "source": [
        "sns.countplot(data=dados, x='Sentiment')"
      ],
      "execution_count": null,
      "outputs": [
        {
          "output_type": "execute_result",
          "data": {
            "text/plain": [
              "<matplotlib.axes._subplots.AxesSubplot at 0x7f9c266ac4a8>"
            ]
          },
          "metadata": {
            "tags": []
          },
          "execution_count": 434
        },
        {
          "output_type": "display_data",
          "data": {
            "image/png": "[encoded data removed]",
            "text/plain": [
              "<Figure size 432x288 with 1 Axes>"
            ]
          },
          "metadata": {
            "tags": [],
            "needs_background": "light"
          }
        }
      ]
    },
    {
      "cell_type": "code",
      "metadata": {
        "colab": {
          "base_uri": "https://localhost:8080/",
          "height": 396
        },
        "id": "gyEfYvxjlXmb",
        "outputId": "723da0a7-dfcc-4d37-a2af-05e9ece70533"
      },
      "source": [
        "dados['device'].value_counts().plot(kind='bar')"
      ],
      "execution_count": null,
      "outputs": [
        {
          "output_type": "execute_result",
          "data": {
            "text/plain": [
              "<matplotlib.axes._subplots.AxesSubplot at 0x7f9c28df2080>"
            ]
          },
          "metadata": {
            "tags": []
          },
          "execution_count": 435
        },
        {
          "output_type": "display_data",
          "data": {
            "image/png": "[encoded data removed]",
            "text/plain": [
              "<Figure size 432x288 with 1 Axes>"
            ]
          },
          "metadata": {
            "tags": [],
            "needs_background": "light"
          }
        }
      ]
    },
    {
      "cell_type": "code",
      "metadata": {
        "colab": {
          "base_uri": "https://localhost:8080/",
          "height": 347
        },
        "id": "ErEYVS8Xl_sT",
        "outputId": "0183d56d-799d-48ba-f256-dc4d5fb6b2e3"
      },
      "source": [
        "dados[['favorites','retweets']].groupby(dados['Sentiment']).mean().plot(kind='bar').set_title(\"Número de Retweets e Favoritos de acordo com os Sentimento\")"
      ],
      "execution_count": null,
      "outputs": [
        {
          "output_type": "execute_result",
          "data": {
            "text/plain": [
              "Text(0.5, 1.0, 'Número de Retweets e Favoritos de acordo com os Sentimento')"
            ]
          },
          "metadata": {
            "tags": []
          },
          "execution_count": 436
        },
        {
          "output_type": "display_data",
          "data": {
            "image/png": "[encoded data removed]",
            "text/plain": [
              "<Figure size 432x288 with 1 Axes>"
            ]
          },
          "metadata": {
            "tags": [],
            "needs_background": "light"
          }
        }
      ]
    },
    {
      "cell_type": "markdown",
      "metadata": {
        "id": "0pp_1AosB6JX"
      },
      "source": [
        "### Clinton ###"
      ]
    },
    {
      "cell_type": "code",
      "metadata": {
        "id": "_Mer_XByx03N"
      },
      "source": [
        "clinton = dados[dados['text'].str.contains(\"clinton\")]"
      ],
      "execution_count": null,
      "outputs": []
    },
    {
      "cell_type": "code",
      "metadata": {
        "colab": {
          "base_uri": "https://localhost:8080/",
          "height": 310
        },
        "id": "UyLgUqbyDp3Z",
        "outputId": "f352fdb2-22de-4d46-94df-541d735bc878"
      },
      "source": [
        "clinton.head()"
      ],
      "execution_count": null,
      "outputs": [
        {
          "output_type": "execute_result",
          "data": {
            "text/html": [
              "<div>\n",
              "<style scoped>\n",
              "    .dataframe tbody tr th:only-of-type {\n",
              "        vertical-align: middle;\n",
              "    }\n",
              "\n",
              "    .dataframe tbody tr th {\n",
              "        vertical-align: top;\n",
              "    }\n",
              "\n",
              "    .dataframe thead th {\n",
              "        text-align: right;\n",
              "    }\n",
              "</style>\n",
              "<table border=\"1\" class=\"dataframe\">\n",
              "  <thead>\n",
              "    <tr style=\"text-align: right;\">\n",
              "      <th></th>\n",
              "      <th>text</th>\n",
              "      <th>device</th>\n",
              "      <th>favorites</th>\n",
              "      <th>retweets</th>\n",
              "      <th>date</th>\n",
              "      <th>Negative Score</th>\n",
              "      <th>Positivo Score</th>\n",
              "      <th>Neuter Score</th>\n",
              "      <th>Compound Score</th>\n",
              "      <th>Sentiment</th>\n",
              "    </tr>\n",
              "  </thead>\n",
              "  <tbody>\n",
              "    <tr>\n",
              "      <th>1541</th>\n",
              "      <td>obama worked harder for hillary clinton and th...</td>\n",
              "      <td>Twitter for iPhone</td>\n",
              "      <td>172471</td>\n",
              "      <td>36677</td>\n",
              "      <td>2020-08</td>\n",
              "      <td>0.068</td>\n",
              "      <td>0.168</td>\n",
              "      <td>0.763</td>\n",
              "      <td>0.5837</td>\n",
              "      <td>Positive</td>\n",
              "    </tr>\n",
              "    <tr>\n",
              "      <th>2755</th>\n",
              "      <td>response to hillary clinton- http//tco/nzyfehyura</td>\n",
              "      <td>Twitter Web Client</td>\n",
              "      <td>660</td>\n",
              "      <td>437</td>\n",
              "      <td>2015-07</td>\n",
              "      <td>0.000</td>\n",
              "      <td>0.000</td>\n",
              "      <td>1.000</td>\n",
              "      <td>0.0000</td>\n",
              "      <td>Neutral</td>\n",
              "    </tr>\n",
              "    <tr>\n",
              "      <th>3244</th>\n",
              "      <td>was andy mccabe ever forced to pay back the 70...</td>\n",
              "      <td>Twitter for iPhone</td>\n",
              "      <td>137435</td>\n",
              "      <td>39781</td>\n",
              "      <td>2020-09</td>\n",
              "      <td>0.118</td>\n",
              "      <td>0.000</td>\n",
              "      <td>0.882</td>\n",
              "      <td>-0.6553</td>\n",
              "      <td>Negative</td>\n",
              "    </tr>\n",
              "    <tr>\n",
              "      <th>3313</th>\n",
              "      <td>rt dailycaller joe biden’s town hall with hill...</td>\n",
              "      <td>Twitter for iPhone</td>\n",
              "      <td>0</td>\n",
              "      <td>4523</td>\n",
              "      <td>2020-04</td>\n",
              "      <td>0.000</td>\n",
              "      <td>0.205</td>\n",
              "      <td>0.795</td>\n",
              "      <td>0.5574</td>\n",
              "      <td>Positive</td>\n",
              "    </tr>\n",
              "    <tr>\n",
              "      <th>3661</th>\n",
              "      <td>rt lizwheeler imagine going after the nra but ...</td>\n",
              "      <td>Twitter for iPhone</td>\n",
              "      <td>0</td>\n",
              "      <td>26940</td>\n",
              "      <td>2020-08</td>\n",
              "      <td>0.215</td>\n",
              "      <td>0.000</td>\n",
              "      <td>0.785</td>\n",
              "      <td>-0.5499</td>\n",
              "      <td>Negative</td>\n",
              "    </tr>\n",
              "  </tbody>\n",
              "</table>\n",
              "</div>"
            ],
            "text/plain": [
              "                                                   text  ... Sentiment\n",
              "1541  obama worked harder for hillary clinton and th...  ...  Positive\n",
              "2755  response to hillary clinton- http//tco/nzyfehyura  ...   Neutral\n",
              "3244  was andy mccabe ever forced to pay back the 70...  ...  Negative\n",
              "3313  rt dailycaller joe biden’s town hall with hill...  ...  Positive\n",
              "3661  rt lizwheeler imagine going after the nra but ...  ...  Negative\n",
              "\n",
              "[5 rows x 10 columns]"
            ]
          },
          "metadata": {
            "tags": []
          },
          "execution_count": 438
        }
      ]
    },
    {
      "cell_type": "code",
      "metadata": {
        "colab": {
          "base_uri": "https://localhost:8080/",
          "height": 312
        },
        "id": "Oe2vf5e55xxF",
        "outputId": "33ba5cb0-8049-4421-cddc-43e4145afeeb"
      },
      "source": [
        "sns.histplot(data=clinton, x='Compound Score', hue='Sentiment').set_title(\"Distribuição dos Sentimentos - Clinton\")"
      ],
      "execution_count": null,
      "outputs": [
        {
          "output_type": "execute_result",
          "data": {
            "text/plain": [
              "Text(0.5, 1.0, 'Distribuição dos Sentimentos - Clinton')"
            ]
          },
          "metadata": {
            "tags": []
          },
          "execution_count": 439
        },
        {
          "output_type": "display_data",
          "data": {
            "image/png": "[encoded data removed]",
            "text/plain": [
              "<Figure size 432x288 with 1 Axes>"
            ]
          },
          "metadata": {
            "tags": [],
            "needs_background": "light"
          }
        }
      ]
    },
    {
      "cell_type": "code",
      "metadata": {
        "colab": {
          "base_uri": "https://localhost:8080/",
          "height": 296
        },
        "id": "jILYm6t_AyIz",
        "outputId": "f0ea82b3-1abc-4c2f-867b-3199ae500fcf"
      },
      "source": [
        "sns.countplot(data=clinton, x='Sentiment')"
      ],
      "execution_count": null,
      "outputs": [
        {
          "output_type": "execute_result",
          "data": {
            "text/plain": [
              "<matplotlib.axes._subplots.AxesSubplot at 0x7f9c28c247b8>"
            ]
          },
          "metadata": {
            "tags": []
          },
          "execution_count": 440
        },
        {
          "output_type": "display_data",
          "data": {
            "image/png": "[encoded data removed]",
            "text/plain": [
              "<Figure size 432x288 with 1 Axes>"
            ]
          },
          "metadata": {
            "tags": [],
            "needs_background": "light"
          }
        }
      ]
    },
    {
      "cell_type": "code",
      "metadata": {
        "colab": {
          "base_uri": "https://localhost:8080/",
          "height": 347
        },
        "id": "lT4KBx9HgWLw",
        "outputId": "8ce71bfc-c9fb-4c5e-826f-357074f1f15f"
      },
      "source": [
        "clinton[['retweets','favorites']].groupby(clinton['Sentiment']).mean().plot(kind='bar').set_title(\"Retweets e Favoritos de acordo com os Sentimentos - Clinton\")"
      ],
      "execution_count": null,
      "outputs": [
        {
          "output_type": "execute_result",
          "data": {
            "text/plain": [
              "Text(0.5, 1.0, 'Retweets e Favoritos de acordo com os Sentimentos - Clinton')"
            ]
          },
          "metadata": {
            "tags": []
          },
          "execution_count": 441
        },
        {
          "output_type": "display_data",
          "data": {
            "image/png": "[encoded data removed]",
            "text/plain": [
              "<Figure size 432x288 with 1 Axes>"
            ]
          },
          "metadata": {
            "tags": [],
            "needs_background": "light"
          }
        }
      ]
    },
    {
      "cell_type": "markdown",
      "metadata": {
        "id": "p9nVoez6B_J6"
      },
      "source": [
        "### Biden ###"
      ]
    },
    {
      "cell_type": "code",
      "metadata": {
        "id": "QchalI_gDlX_"
      },
      "source": [
        "biden = dados[dados['text'].str.contains(\"biden\")]"
      ],
      "execution_count": null,
      "outputs": []
    },
    {
      "cell_type": "code",
      "metadata": {
        "colab": {
          "base_uri": "https://localhost:8080/",
          "height": 312
        },
        "id": "TwDJWjIgFB5I",
        "outputId": "2f55be23-42b9-42d1-c574-81a4b569f013"
      },
      "source": [
        "sns.histplot(data=biden, x='Compound Score', hue='Sentiment').set_title(\"Distribuição dos tweets relacionados a Biden de acordo com os Sentimentos\")"
      ],
      "execution_count": null,
      "outputs": [
        {
          "output_type": "execute_result",
          "data": {
            "text/plain": [
              "Text(0.5, 1.0, 'Distribuição dos tweets relacionados a Biden de acordo com os Sentimentos')"
            ]
          },
          "metadata": {
            "tags": []
          },
          "execution_count": 285
        },
        {
          "output_type": "display_data",
          "data": {
            "image/png": "[encoded data removed]",
            "text/plain": [
              "<Figure size 432x288 with 1 Axes>"
            ]
          },
          "metadata": {
            "tags": [],
            "needs_background": "light"
          }
        }
      ]
    },
    {
      "cell_type": "code",
      "metadata": {
        "colab": {
          "base_uri": "https://localhost:8080/",
          "height": 296
        },
        "id": "an9Yi5iXML58",
        "outputId": "b91012f9-f2d0-4875-91bb-34982234b8d1"
      },
      "source": [
        "sns.countplot(data=biden, x='Sentiment')"
      ],
      "execution_count": null,
      "outputs": [
        {
          "output_type": "execute_result",
          "data": {
            "text/plain": [
              "<matplotlib.axes._subplots.AxesSubplot at 0x7f9c28b90a90>"
            ]
          },
          "metadata": {
            "tags": []
          },
          "execution_count": 443
        },
        {
          "output_type": "display_data",
          "data": {
            "image/png": "[encoded data removed]",
            "text/plain": [
              "<Figure size 432x288 with 1 Axes>"
            ]
          },
          "metadata": {
            "tags": [],
            "needs_background": "light"
          }
        }
      ]
    },
    {
      "cell_type": "code",
      "metadata": {
        "colab": {
          "base_uri": "https://localhost:8080/",
          "height": 347
        },
        "id": "XZP6Mq0leKM0",
        "outputId": "5e0104ed-3a6a-4521-e28c-2bff778cedf6"
      },
      "source": [
        "biden[['retweets','favorites']].groupby(dados['Sentiment']).mean().plot(kind='bar').set_title(\"Retweets e Favoritos de acordo com os Sentimentos - Biden\")"
      ],
      "execution_count": null,
      "outputs": [
        {
          "output_type": "execute_result",
          "data": {
            "text/plain": [
              "Text(0.5, 1.0, 'Retweets e Favoritos de acordo com os Sentimentos - Biden')"
            ]
          },
          "metadata": {
            "tags": []
          },
          "execution_count": 444
        },
        {
          "output_type": "display_data",
          "data": {
            "image/png": "[encoded data removed]",
            "text/plain": [
              "<Figure size 432x288 with 1 Axes>"
            ]
          },
          "metadata": {
            "tags": [],
            "needs_background": "light"
          }
        }
      ]
    },
    {
      "cell_type": "markdown",
      "metadata": {
        "id": "cguQ1jTgCCWF"
      },
      "source": [
        "### Putin ###"
      ]
    },
    {
      "cell_type": "code",
      "metadata": {
        "id": "ucUCEcjaMWJw"
      },
      "source": [
        "putin = dados[dados['text'].str.contains(\"putin\")]"
      ],
      "execution_count": null,
      "outputs": []
    },
    {
      "cell_type": "code",
      "metadata": {
        "colab": {
          "base_uri": "https://localhost:8080/",
          "height": 312
        },
        "id": "JYACGLu7ZC_K",
        "outputId": "bb7ceb8c-ceab-4a0d-8e46-29a36d860940"
      },
      "source": [
        "sns.histplot(data=putin, x='Compound Score', hue='Sentiment').set_title(\"Distribuição dos tweets relacionados a Putin de acordo com os Sentimentos\")"
      ],
      "execution_count": null,
      "outputs": [
        {
          "output_type": "execute_result",
          "data": {
            "text/plain": [
              "Text(0.5, 1.0, 'Distribuição dos tweets relacionados a Putin de acordo com os Sentimentos')"
            ]
          },
          "metadata": {
            "tags": []
          },
          "execution_count": 288
        },
        {
          "output_type": "display_data",
          "data": {
            "image/png": "[encoded data removed]",
            "text/plain": [
              "<Figure size 432x288 with 1 Axes>"
            ]
          },
          "metadata": {
            "tags": [],
            "needs_background": "light"
          }
        }
      ]
    },
    {
      "cell_type": "code",
      "metadata": {
        "colab": {
          "base_uri": "https://localhost:8080/",
          "height": 296
        },
        "id": "lbOVSnYDZY0N",
        "outputId": "ec285ac5-c883-4414-f8e5-fc4807fd8f7b"
      },
      "source": [
        "sns.countplot(data=putin, x='Sentiment')"
      ],
      "execution_count": null,
      "outputs": [
        {
          "output_type": "execute_result",
          "data": {
            "text/plain": [
              "<matplotlib.axes._subplots.AxesSubplot at 0x7f9c27269400>"
            ]
          },
          "metadata": {
            "tags": []
          },
          "execution_count": 269
        },
        {
          "output_type": "display_data",
          "data": {
            "image/png": "[encoded data removed]",
            "text/plain": [
              "<Figure size 432x288 with 1 Axes>"
            ]
          },
          "metadata": {
            "tags": [],
            "needs_background": "light"
          }
        }
      ]
    },
    {
      "cell_type": "code",
      "metadata": {
        "colab": {
          "base_uri": "https://localhost:8080/",
          "height": 347
        },
        "id": "OLW8rLQHvPZW",
        "outputId": "204c1999-6779-4d93-bde1-fa0bb9949f18"
      },
      "source": [
        "putin[['favorites','retweets']].groupby(putin['Sentiment']).mean().plot(kind='bar').set_title(\"Retweets e Favoritos de acordo com os Sentimentos - Putin\")"
      ],
      "execution_count": null,
      "outputs": [
        {
          "output_type": "execute_result",
          "data": {
            "text/plain": [
              "Text(0.5, 1.0, 'Retweets e Favoritos de acordo com os Sentimentos - Putin')"
            ]
          },
          "metadata": {
            "tags": []
          },
          "execution_count": 292
        },
        {
          "output_type": "display_data",
          "data": {
            "image/png": "[encoded data removed]",
            "text/plain": [
              "<Figure size 432x288 with 1 Axes>"
            ]
          },
          "metadata": {
            "tags": [],
            "needs_background": "light"
          }
        }
      ]
    },
    {
      "cell_type": "markdown",
      "metadata": {
        "id": "ydMsi9egCFhl"
      },
      "source": [
        "### Russia ###"
      ]
    },
    {
      "cell_type": "code",
      "metadata": {
        "id": "_RSJy3SmkU4N"
      },
      "source": [
        "russia = dados[dados['text'].str.contains(\"russia\")]"
      ],
      "execution_count": null,
      "outputs": []
    },
    {
      "cell_type": "code",
      "metadata": {
        "colab": {
          "base_uri": "https://localhost:8080/",
          "height": 296
        },
        "id": "pupnOuxzlre2",
        "outputId": "77170df8-092c-4fd7-d6cf-33e03fb26cbf"
      },
      "source": [
        "sns.histplot(data=russia, x='Compound Score', hue='Sentiment')"
      ],
      "execution_count": null,
      "outputs": [
        {
          "output_type": "execute_result",
          "data": {
            "text/plain": [
              "<matplotlib.axes._subplots.AxesSubplot at 0x7f9c270aa5f8>"
            ]
          },
          "metadata": {
            "tags": []
          },
          "execution_count": 273
        },
        {
          "output_type": "display_data",
          "data": {
            "image/png": "[encoded data removed]",
            "text/plain": [
              "<Figure size 432x288 with 1 Axes>"
            ]
          },
          "metadata": {
            "tags": [],
            "needs_background": "light"
          }
        }
      ]
    },
    {
      "cell_type": "code",
      "metadata": {
        "colab": {
          "base_uri": "https://localhost:8080/",
          "height": 296
        },
        "id": "pMEWKaGnl4Mo",
        "outputId": "fb0e7685-5358-4724-ab3a-5ed7c4fa21e5"
      },
      "source": [
        "sns.countplot(data=russia, x='Sentiment')"
      ],
      "execution_count": null,
      "outputs": [
        {
          "output_type": "execute_result",
          "data": {
            "text/plain": [
              "<matplotlib.axes._subplots.AxesSubplot at 0x7f9c27005978>"
            ]
          },
          "metadata": {
            "tags": []
          },
          "execution_count": 274
        },
        {
          "output_type": "display_data",
          "data": {
            "image/png": "[encoded data removed]",
            "text/plain": [
              "<Figure size 432x288 with 1 Axes>"
            ]
          },
          "metadata": {
            "tags": [],
            "needs_background": "light"
          }
        }
      ]
    },
    {
      "cell_type": "code",
      "metadata": {
        "colab": {
          "base_uri": "https://localhost:8080/",
          "height": 331
        },
        "id": "ODKZQqf5l83M",
        "outputId": "73efda37-f59d-4148-a293-96ab6d7d32ca"
      },
      "source": [
        "russia[['retweets','favorites']].groupby(russia[\"Sentiment\"]).mean().plot(kind='bar')"
      ],
      "execution_count": null,
      "outputs": [
        {
          "output_type": "execute_result",
          "data": {
            "text/plain": [
              "<matplotlib.axes._subplots.AxesSubplot at 0x7f9c267f9f98>"
            ]
          },
          "metadata": {
            "tags": []
          },
          "execution_count": 294
        },
        {
          "output_type": "display_data",
          "data": {
            "image/png": "[encoded data removed]",
            "text/plain": [
              "<Figure size 432x288 with 1 Axes>"
            ]
          },
          "metadata": {
            "tags": [],
            "needs_background": "light"
          }
        }
      ]
    },
    {
      "cell_type": "markdown",
      "metadata": {
        "id": "LBuiths1CKQz"
      },
      "source": [
        "### Liberals ###"
      ]
    },
    {
      "cell_type": "code",
      "metadata": {
        "id": "DWXud5II0x-X"
      },
      "source": [
        "liberals = dados[dados['text'].str.contains(\"liberals\")]"
      ],
      "execution_count": null,
      "outputs": []
    },
    {
      "cell_type": "code",
      "metadata": {
        "colab": {
          "base_uri": "https://localhost:8080/",
          "height": 296
        },
        "id": "bGmjrnhM08Nq",
        "outputId": "cb58c0f2-db5f-42ec-9a25-566f0eb5d0d6"
      },
      "source": [
        "sns.histplot(data=liberals, x='Compound Score', hue='Sentiment')"
      ],
      "execution_count": null,
      "outputs": [
        {
          "output_type": "execute_result",
          "data": {
            "text/plain": [
              "<matplotlib.axes._subplots.AxesSubplot at 0x7f9c267f9ef0>"
            ]
          },
          "metadata": {
            "tags": []
          },
          "execution_count": 296
        },
        {
          "output_type": "display_data",
          "data": {
            "image/png": "[encoded data removed]",
            "text/plain": [
              "<Figure size 432x288 with 1 Axes>"
            ]
          },
          "metadata": {
            "tags": [],
            "needs_background": "light"
          }
        }
      ]
    },
    {
      "cell_type": "code",
      "metadata": {
        "colab": {
          "base_uri": "https://localhost:8080/",
          "height": 296
        },
        "id": "SfjVqicR1GSX",
        "outputId": "1e8e655b-0232-485d-ac64-22747768f8a4"
      },
      "source": [
        "sns.countplot(data=liberals, x='Sentiment')"
      ],
      "execution_count": null,
      "outputs": [
        {
          "output_type": "execute_result",
          "data": {
            "text/plain": [
              "<matplotlib.axes._subplots.AxesSubplot at 0x7f9c266beef0>"
            ]
          },
          "metadata": {
            "tags": []
          },
          "execution_count": 298
        },
        {
          "output_type": "display_data",
          "data": {
            "image/png": "[encoded data removed]",
            "text/plain": [
              "<Figure size 432x288 with 1 Axes>"
            ]
          },
          "metadata": {
            "tags": [],
            "needs_background": "light"
          }
        }
      ]
    }
  ]
}