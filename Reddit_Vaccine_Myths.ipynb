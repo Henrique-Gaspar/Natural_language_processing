{
  "nbformat": 4,
  "nbformat_minor": 0,
  "metadata": {
    "colab": {
      "name": "Reddit Vaccine Myths",
      "provenance": [],
      "collapsed_sections": []
    },
    "kernelspec": {
      "name": "python3",
      "display_name": "Python 3"
    },
    "language_info": {
      "name": "python"
    }
  },
  "cells": [
    {
      "cell_type": "markdown",
      "metadata": {
        "id": "VIVJpNUGPfIG"
      },
      "source": [
        "# Reddit Vaccine Myths\n",
        "\n",
        "### Sentiment Analyze with Vader"
      ]
    },
    {
      "cell_type": "code",
      "metadata": {
        "colab": {
          "base_uri": "https://localhost:8080/"
        },
        "id": "xNYvZmuouU1U",
        "outputId": "b5c9f22b-9e9c-4367-8d55-105b27883703"
      },
      "source": [
        "pip install nltk"
      ],
      "execution_count": 719,
      "outputs": [
        {
          "output_type": "stream",
          "text": [
            "Requirement already satisfied: nltk in /usr/local/lib/python3.7/dist-packages (3.2.5)\n",
            "Requirement already satisfied: six in /usr/local/lib/python3.7/dist-packages (from nltk) (1.15.0)\n"
          ],
          "name": "stdout"
        }
      ]
    },
    {
      "cell_type": "code",
      "metadata": {
        "colab": {
          "base_uri": "https://localhost:8080/"
        },
        "id": "0nJBcVN59Pcx",
        "outputId": "50b0b5ce-14b1-4756-af0f-248dfebcecc2"
      },
      "source": [
        "import pandas as pd\n",
        "import numpy as np\n",
        "import matplotlib.pyplot as plt\n",
        "from nltk.sentiment import vader\n",
        "import re\n",
        "import nltk\n",
        "import seaborn as sns\n",
        "nltk.download('vader_lexicon')"
      ],
      "execution_count": 852,
      "outputs": [
        {
          "output_type": "stream",
          "text": [
            "[nltk_data] Downloading package vader_lexicon to /root/nltk_data...\n",
            "[nltk_data]   Package vader_lexicon is already up-to-date!\n"
          ],
          "name": "stdout"
        },
        {
          "output_type": "execute_result",
          "data": {
            "text/plain": [
              "True"
            ]
          },
          "metadata": {
            "tags": []
          },
          "execution_count": 852
        }
      ]
    },
    {
      "cell_type": "code",
      "metadata": {
        "colab": {
          "base_uri": "https://localhost:8080/",
          "height": 206
        },
        "id": "fx8Aq8aOBscd",
        "outputId": "6171727f-d2f4-477b-be92-c85b29f64899"
      },
      "source": [
        "dados = pd.read_csv('reddit_vm.csv')\n",
        "dados.head()"
      ],
      "execution_count": 777,
      "outputs": [
        {
          "output_type": "execute_result",
          "data": {
            "text/html": [
              "<div>\n",
              "<style scoped>\n",
              "    .dataframe tbody tr th:only-of-type {\n",
              "        vertical-align: middle;\n",
              "    }\n",
              "\n",
              "    .dataframe tbody tr th {\n",
              "        vertical-align: top;\n",
              "    }\n",
              "\n",
              "    .dataframe thead th {\n",
              "        text-align: right;\n",
              "    }\n",
              "</style>\n",
              "<table border=\"1\" class=\"dataframe\">\n",
              "  <thead>\n",
              "    <tr style=\"text-align: right;\">\n",
              "      <th></th>\n",
              "      <th>title</th>\n",
              "      <th>score</th>\n",
              "      <th>id</th>\n",
              "      <th>url</th>\n",
              "      <th>comms_num</th>\n",
              "      <th>created</th>\n",
              "      <th>body</th>\n",
              "      <th>timestamp</th>\n",
              "    </tr>\n",
              "  </thead>\n",
              "  <tbody>\n",
              "    <tr>\n",
              "      <th>0</th>\n",
              "      <td>Health Canada approves AstraZeneca COVID-19 va...</td>\n",
              "      <td>7</td>\n",
              "      <td>lt74vw</td>\n",
              "      <td>https://www.canadaforums.ca/2021/02/health-can...</td>\n",
              "      <td>0</td>\n",
              "      <td>1.614400e+09</td>\n",
              "      <td>NaN</td>\n",
              "      <td>2021-02-27 06:33:45</td>\n",
              "    </tr>\n",
              "    <tr>\n",
              "      <th>1</th>\n",
              "      <td>COVID-19 in Canada: 'Vaccination passports' a ...</td>\n",
              "      <td>2</td>\n",
              "      <td>lsh0ij</td>\n",
              "      <td>https://www.canadaforums.ca/2021/02/covid-19-i...</td>\n",
              "      <td>1</td>\n",
              "      <td>1.614316e+09</td>\n",
              "      <td>NaN</td>\n",
              "      <td>2021-02-26 07:11:07</td>\n",
              "    </tr>\n",
              "    <tr>\n",
              "      <th>2</th>\n",
              "      <td>Coronavirus variants could fuel Canada's third...</td>\n",
              "      <td>6</td>\n",
              "      <td>lohlle</td>\n",
              "      <td>https://www.canadaforums.ca/2021/02/coronaviru...</td>\n",
              "      <td>0</td>\n",
              "      <td>1.613887e+09</td>\n",
              "      <td>NaN</td>\n",
              "      <td>2021-02-21 07:50:08</td>\n",
              "    </tr>\n",
              "    <tr>\n",
              "      <th>3</th>\n",
              "      <td>Canadian government to extend COVID-19 emergen...</td>\n",
              "      <td>1</td>\n",
              "      <td>lnptv8</td>\n",
              "      <td>https://www.canadaforums.ca/2021/02/canadian-g...</td>\n",
              "      <td>0</td>\n",
              "      <td>1.613796e+09</td>\n",
              "      <td>NaN</td>\n",
              "      <td>2021-02-20 06:35:13</td>\n",
              "    </tr>\n",
              "    <tr>\n",
              "      <th>4</th>\n",
              "      <td>Canada: Pfizer is 'extremely committed' to mee...</td>\n",
              "      <td>6</td>\n",
              "      <td>lkslm6</td>\n",
              "      <td>https://www.canadaforums.ca/2021/02/canada-pfi...</td>\n",
              "      <td>0</td>\n",
              "      <td>1.613468e+09</td>\n",
              "      <td>NaN</td>\n",
              "      <td>2021-02-16 11:36:28</td>\n",
              "    </tr>\n",
              "  </tbody>\n",
              "</table>\n",
              "</div>"
            ],
            "text/plain": [
              "                                               title  ...            timestamp\n",
              "0  Health Canada approves AstraZeneca COVID-19 va...  ...  2021-02-27 06:33:45\n",
              "1  COVID-19 in Canada: 'Vaccination passports' a ...  ...  2021-02-26 07:11:07\n",
              "2  Coronavirus variants could fuel Canada's third...  ...  2021-02-21 07:50:08\n",
              "3  Canadian government to extend COVID-19 emergen...  ...  2021-02-20 06:35:13\n",
              "4  Canada: Pfizer is 'extremely committed' to mee...  ...  2021-02-16 11:36:28\n",
              "\n",
              "[5 rows x 8 columns]"
            ]
          },
          "metadata": {
            "tags": []
          },
          "execution_count": 777
        }
      ]
    },
    {
      "cell_type": "markdown",
      "metadata": {
        "id": "1LdhpZ7FPrXx"
      },
      "source": [
        "### Cleaning Data"
      ]
    },
    {
      "cell_type": "code",
      "metadata": {
        "id": "ZUPe5p6GHtBz"
      },
      "source": [
        "dados.drop(['title','id','url','created'], axis=1, inplace=True)"
      ],
      "execution_count": 778,
      "outputs": []
    },
    {
      "cell_type": "code",
      "metadata": {
        "id": "9N3ROskSNJmy"
      },
      "source": [
        "dados['timestamp'] = dados['timestamp'].str.split(' ')"
      ],
      "execution_count": 779,
      "outputs": []
    },
    {
      "cell_type": "code",
      "metadata": {
        "id": "GA8_5ynhNjd5"
      },
      "source": [
        "dados['date'] = dados['timestamp'].str.slice(0,1)\n",
        "dados['hour'] = dados['timestamp'].str.slice(1)"
      ],
      "execution_count": 780,
      "outputs": []
    },
    {
      "cell_type": "code",
      "metadata": {
        "id": "fAB2Lxx5Nmgz"
      },
      "source": [
        "x = []\n",
        "for n in dados['date']:\n",
        "  x.append(str(n)[1:-1])"
      ],
      "execution_count": 781,
      "outputs": []
    },
    {
      "cell_type": "code",
      "metadata": {
        "id": "oYffJ7wKQ375"
      },
      "source": [
        "dados['date'] = x"
      ],
      "execution_count": 782,
      "outputs": []
    },
    {
      "cell_type": "code",
      "metadata": {
        "id": "gbXF4ZIZQ8J2"
      },
      "source": [
        "y = []\n",
        "for z in dados['hour']:\n",
        "  y.append(str(z)[1:-1])"
      ],
      "execution_count": 783,
      "outputs": []
    },
    {
      "cell_type": "code",
      "metadata": {
        "id": "5bXr-3ffRAcX"
      },
      "source": [
        "dados['hour'] = y"
      ],
      "execution_count": 784,
      "outputs": []
    },
    {
      "cell_type": "code",
      "metadata": {
        "id": "lLzh43JGP3Mq"
      },
      "source": [
        "dados.drop('timestamp', axis=1, inplace=True)"
      ],
      "execution_count": 785,
      "outputs": []
    },
    {
      "cell_type": "code",
      "metadata": {
        "id": "bK07vHr7RcPZ"
      },
      "source": [
        "no_aps = []\n",
        "for l in dados['date']:\n",
        "  no_aps.append(l.replace(\"'\", \"\"))"
      ],
      "execution_count": 786,
      "outputs": []
    },
    {
      "cell_type": "code",
      "metadata": {
        "id": "s93f3NxeSb5m"
      },
      "source": [
        "dados['date'] = no_aps"
      ],
      "execution_count": 787,
      "outputs": []
    },
    {
      "cell_type": "code",
      "metadata": {
        "id": "ypelbBhmSeSl"
      },
      "source": [
        "no_aps = []\n",
        "for j in dados['hour']:\n",
        "  no_aps.append(j.replace(\"'\", \"\"))"
      ],
      "execution_count": 788,
      "outputs": []
    },
    {
      "cell_type": "code",
      "metadata": {
        "id": "-t8TRjWkSnNv"
      },
      "source": [
        "dados['hour'] = no_aps"
      ],
      "execution_count": 789,
      "outputs": []
    },
    {
      "cell_type": "code",
      "metadata": {
        "id": "BRQ8r1mLH8Ow"
      },
      "source": [
        "dados['date'] = pd.to_datetime(dados['date'], format=\"%Y-%m-%d\")\n",
        "dados['hour'] = pd.to_datetime(dados['hour'], format=\"%H:%M:%S\")"
      ],
      "execution_count": 790,
      "outputs": []
    },
    {
      "cell_type": "code",
      "metadata": {
        "id": "FpA1ly6qTH9x"
      },
      "source": [
        "dados['year'] = dados['date'].map(lambda x: x.strftime(\"%Y\"))\n",
        "dados['month'] = dados['date'].map(lambda x: x.strftime(\"%m\"))\n",
        "dados['hour'] = dados['hour'].map(lambda x: x.strftime(\"%H\"))"
      ],
      "execution_count": 791,
      "outputs": []
    },
    {
      "cell_type": "code",
      "metadata": {
        "id": "xnkzb4LpUz2o"
      },
      "source": [
        "dados.dropna(inplace=True)"
      ],
      "execution_count": 792,
      "outputs": []
    },
    {
      "cell_type": "code",
      "metadata": {
        "id": "58zQmNmZmlo_"
      },
      "source": [
        "dados['body'] = dados['body'].str.lower()\n",
        "dados['body'] = dados['body'].apply(lambda x: re.sub(r'[\\@\\:\\_\\.\\;\\#\\\"\\'\\$\\%\\&\\/]', \"\", str(x)))"
      ],
      "execution_count": 793,
      "outputs": []
    },
    {
      "cell_type": "code",
      "metadata": {
        "id": "5G4LUJM8qk5z"
      },
      "source": [
        "dados['body'] = dados['body'].apply(lambda x: x.replace(\"https\", \"\"))"
      ],
      "execution_count": 794,
      "outputs": []
    },
    {
      "cell_type": "code",
      "metadata": {
        "colab": {
          "base_uri": "https://localhost:8080/",
          "height": 206
        },
        "id": "Bg-VCWVxcRt3",
        "outputId": "9e307b1c-56a3-466c-b497-b3c111574279"
      },
      "source": [
        "dados.head()"
      ],
      "execution_count": 795,
      "outputs": [
        {
          "output_type": "execute_result",
          "data": {
            "text/html": [
              "<div>\n",
              "<style scoped>\n",
              "    .dataframe tbody tr th:only-of-type {\n",
              "        vertical-align: middle;\n",
              "    }\n",
              "\n",
              "    .dataframe tbody tr th {\n",
              "        vertical-align: top;\n",
              "    }\n",
              "\n",
              "    .dataframe thead th {\n",
              "        text-align: right;\n",
              "    }\n",
              "</style>\n",
              "<table border=\"1\" class=\"dataframe\">\n",
              "  <thead>\n",
              "    <tr style=\"text-align: right;\">\n",
              "      <th></th>\n",
              "      <th>score</th>\n",
              "      <th>comms_num</th>\n",
              "      <th>body</th>\n",
              "      <th>date</th>\n",
              "      <th>hour</th>\n",
              "      <th>year</th>\n",
              "      <th>month</th>\n",
              "    </tr>\n",
              "  </thead>\n",
              "  <tbody>\n",
              "    <tr>\n",
              "      <th>6</th>\n",
              "      <td>1</td>\n",
              "      <td>0</td>\n",
              "      <td>your op its not a myth only one vaccine contai...</td>\n",
              "      <td>2019-03-25</td>\n",
              "      <td>02</td>\n",
              "      <td>2019</td>\n",
              "      <td>03</td>\n",
              "    </tr>\n",
              "    <tr>\n",
              "      <th>7</th>\n",
              "      <td>10</td>\n",
              "      <td>8</td>\n",
              "      <td>youtubezbkvcpbnnku</td>\n",
              "      <td>2020-04-23</td>\n",
              "      <td>20</td>\n",
              "      <td>2020</td>\n",
              "      <td>04</td>\n",
              "    </tr>\n",
              "    <tr>\n",
              "      <th>8</th>\n",
              "      <td>0</td>\n",
              "      <td>0</td>\n",
              "      <td>because anti-vaxxers have no sense</td>\n",
              "      <td>2020-04-24</td>\n",
              "      <td>23</td>\n",
              "      <td>2020</td>\n",
              "      <td>04</td>\n",
              "    </tr>\n",
              "    <tr>\n",
              "      <th>9</th>\n",
              "      <td>0</td>\n",
              "      <td>0</td>\n",
              "      <td>what do you mean by your op i am fairly new to...</td>\n",
              "      <td>2019-03-25</td>\n",
              "      <td>02</td>\n",
              "      <td>2019</td>\n",
              "      <td>03</td>\n",
              "    </tr>\n",
              "    <tr>\n",
              "      <th>10</th>\n",
              "      <td>1</td>\n",
              "      <td>0</td>\n",
              "      <td>when they say theres no thimerasol, they mean ...</td>\n",
              "      <td>2019-03-25</td>\n",
              "      <td>02</td>\n",
              "      <td>2019</td>\n",
              "      <td>03</td>\n",
              "    </tr>\n",
              "  </tbody>\n",
              "</table>\n",
              "</div>"
            ],
            "text/plain": [
              "    score  comms_num  ...  year month\n",
              "6       1          0  ...  2019    03\n",
              "7      10          8  ...  2020    04\n",
              "8       0          0  ...  2020    04\n",
              "9       0          0  ...  2019    03\n",
              "10      1          0  ...  2019    03\n",
              "\n",
              "[5 rows x 7 columns]"
            ]
          },
          "metadata": {
            "tags": []
          },
          "execution_count": 795
        }
      ]
    },
    {
      "cell_type": "markdown",
      "metadata": {
        "id": "78G2vVoAP04N"
      },
      "source": [
        "### Sentiment Analyze"
      ]
    },
    {
      "cell_type": "code",
      "metadata": {
        "id": "EbGLVSm2t06X"
      },
      "source": [
        "sentiment = vader.SentimentIntensityAnalyzer()"
      ],
      "execution_count": 796,
      "outputs": []
    },
    {
      "cell_type": "code",
      "metadata": {
        "id": "SzzndfGiwVtE"
      },
      "source": [
        "sentiments = [sentiment.polarity_scores(i) for i in dados['body'].values]"
      ],
      "execution_count": 797,
      "outputs": []
    },
    {
      "cell_type": "code",
      "metadata": {
        "id": "EDX5wg7jzjgt"
      },
      "source": [
        "dados['Negative Score'] = [i['neg'] for i in sentiments]\n",
        "dados['Positivo Score'] = [i['pos'] for i in sentiments]\n",
        "dados['Neuter Score'] = [i['neu'] for i in sentiments]\n",
        "dados['Compound Score'] = [i['compound'] for i in sentiments]"
      ],
      "execution_count": 798,
      "outputs": []
    },
    {
      "cell_type": "code",
      "metadata": {
        "colab": {
          "base_uri": "https://localhost:8080/",
          "height": 206
        },
        "id": "oU_E6mo7zt-r",
        "outputId": "1ed64bd9-8ede-424e-9330-7168a81b432b"
      },
      "source": [
        "dados.head()"
      ],
      "execution_count": 743,
      "outputs": [
        {
          "output_type": "execute_result",
          "data": {
            "text/html": [
              "<div>\n",
              "<style scoped>\n",
              "    .dataframe tbody tr th:only-of-type {\n",
              "        vertical-align: middle;\n",
              "    }\n",
              "\n",
              "    .dataframe tbody tr th {\n",
              "        vertical-align: top;\n",
              "    }\n",
              "\n",
              "    .dataframe thead th {\n",
              "        text-align: right;\n",
              "    }\n",
              "</style>\n",
              "<table border=\"1\" class=\"dataframe\">\n",
              "  <thead>\n",
              "    <tr style=\"text-align: right;\">\n",
              "      <th></th>\n",
              "      <th>score</th>\n",
              "      <th>comms_num</th>\n",
              "      <th>body</th>\n",
              "      <th>date</th>\n",
              "      <th>hour</th>\n",
              "      <th>year</th>\n",
              "      <th>month</th>\n",
              "      <th>Negative Score</th>\n",
              "      <th>Positivo Score</th>\n",
              "      <th>Neuter Score</th>\n",
              "      <th>Compound Score</th>\n",
              "    </tr>\n",
              "  </thead>\n",
              "  <tbody>\n",
              "    <tr>\n",
              "      <th>6</th>\n",
              "      <td>1</td>\n",
              "      <td>0</td>\n",
              "      <td>your op its not a myth only one vaccine contai...</td>\n",
              "      <td>2019-03-25</td>\n",
              "      <td>02</td>\n",
              "      <td>2019</td>\n",
              "      <td>03</td>\n",
              "      <td>0.000</td>\n",
              "      <td>0.0</td>\n",
              "      <td>1.000</td>\n",
              "      <td>0.000</td>\n",
              "    </tr>\n",
              "    <tr>\n",
              "      <th>7</th>\n",
              "      <td>10</td>\n",
              "      <td>8</td>\n",
              "      <td>youtubezbkvcpbnnku</td>\n",
              "      <td>2020-04-23</td>\n",
              "      <td>20</td>\n",
              "      <td>2020</td>\n",
              "      <td>04</td>\n",
              "      <td>0.000</td>\n",
              "      <td>0.0</td>\n",
              "      <td>1.000</td>\n",
              "      <td>0.000</td>\n",
              "    </tr>\n",
              "    <tr>\n",
              "      <th>8</th>\n",
              "      <td>0</td>\n",
              "      <td>0</td>\n",
              "      <td>because anti-vaxxers have no sense</td>\n",
              "      <td>2020-04-24</td>\n",
              "      <td>23</td>\n",
              "      <td>2020</td>\n",
              "      <td>04</td>\n",
              "      <td>0.355</td>\n",
              "      <td>0.0</td>\n",
              "      <td>0.645</td>\n",
              "      <td>-0.296</td>\n",
              "    </tr>\n",
              "    <tr>\n",
              "      <th>9</th>\n",
              "      <td>0</td>\n",
              "      <td>0</td>\n",
              "      <td>what do you mean by your op i am fairly new to...</td>\n",
              "      <td>2019-03-25</td>\n",
              "      <td>02</td>\n",
              "      <td>2019</td>\n",
              "      <td>03</td>\n",
              "      <td>0.000</td>\n",
              "      <td>0.0</td>\n",
              "      <td>1.000</td>\n",
              "      <td>0.000</td>\n",
              "    </tr>\n",
              "    <tr>\n",
              "      <th>10</th>\n",
              "      <td>1</td>\n",
              "      <td>0</td>\n",
              "      <td>when they say theres no thimerasol, they mean ...</td>\n",
              "      <td>2019-03-25</td>\n",
              "      <td>02</td>\n",
              "      <td>2019</td>\n",
              "      <td>03</td>\n",
              "      <td>0.136</td>\n",
              "      <td>0.0</td>\n",
              "      <td>0.864</td>\n",
              "      <td>-0.296</td>\n",
              "    </tr>\n",
              "  </tbody>\n",
              "</table>\n",
              "</div>"
            ],
            "text/plain": [
              "    score  comms_num  ... Neuter Score Compound Score\n",
              "6       1          0  ...        1.000          0.000\n",
              "7      10          8  ...        1.000          0.000\n",
              "8       0          0  ...        0.645         -0.296\n",
              "9       0          0  ...        1.000          0.000\n",
              "10      1          0  ...        0.864         -0.296\n",
              "\n",
              "[5 rows x 11 columns]"
            ]
          },
          "metadata": {
            "tags": []
          },
          "execution_count": 743
        }
      ]
    },
    {
      "cell_type": "code",
      "metadata": {
        "id": "sR3QezoGztUm"
      },
      "source": [
        "score = dados['Compound Score'].values"
      ],
      "execution_count": 799,
      "outputs": []
    },
    {
      "cell_type": "code",
      "metadata": {
        "id": "fjfI58Nn0grP"
      },
      "source": [
        "t = []\n",
        "for v in score:\n",
        "  if v >= 0.05:\n",
        "    t.append('Positive')\n",
        "  elif v <= -0.05:\n",
        "    t.append('Negative')\n",
        "  else:\n",
        "    t.append(\"Neuter\")\n",
        "\n",
        "dados['Sentimen'] = t"
      ],
      "execution_count": 800,
      "outputs": []
    },
    {
      "cell_type": "code",
      "metadata": {
        "colab": {
          "base_uri": "https://localhost:8080/",
          "height": 206
        },
        "id": "Y3uWBW020_iX",
        "outputId": "d2b96c34-6d50-49ce-81c6-6ed270bf5c96"
      },
      "source": [
        "dados.head()"
      ],
      "execution_count": 746,
      "outputs": [
        {
          "output_type": "execute_result",
          "data": {
            "text/html": [
              "<div>\n",
              "<style scoped>\n",
              "    .dataframe tbody tr th:only-of-type {\n",
              "        vertical-align: middle;\n",
              "    }\n",
              "\n",
              "    .dataframe tbody tr th {\n",
              "        vertical-align: top;\n",
              "    }\n",
              "\n",
              "    .dataframe thead th {\n",
              "        text-align: right;\n",
              "    }\n",
              "</style>\n",
              "<table border=\"1\" class=\"dataframe\">\n",
              "  <thead>\n",
              "    <tr style=\"text-align: right;\">\n",
              "      <th></th>\n",
              "      <th>score</th>\n",
              "      <th>comms_num</th>\n",
              "      <th>body</th>\n",
              "      <th>date</th>\n",
              "      <th>hour</th>\n",
              "      <th>year</th>\n",
              "      <th>month</th>\n",
              "      <th>Negative Score</th>\n",
              "      <th>Positivo Score</th>\n",
              "      <th>Neuter Score</th>\n",
              "      <th>Compound Score</th>\n",
              "      <th>Sentimen</th>\n",
              "    </tr>\n",
              "  </thead>\n",
              "  <tbody>\n",
              "    <tr>\n",
              "      <th>6</th>\n",
              "      <td>1</td>\n",
              "      <td>0</td>\n",
              "      <td>your op its not a myth only one vaccine contai...</td>\n",
              "      <td>2019-03-25</td>\n",
              "      <td>02</td>\n",
              "      <td>2019</td>\n",
              "      <td>03</td>\n",
              "      <td>0.000</td>\n",
              "      <td>0.0</td>\n",
              "      <td>1.000</td>\n",
              "      <td>0.000</td>\n",
              "      <td>Neuter</td>\n",
              "    </tr>\n",
              "    <tr>\n",
              "      <th>7</th>\n",
              "      <td>10</td>\n",
              "      <td>8</td>\n",
              "      <td>youtubezbkvcpbnnku</td>\n",
              "      <td>2020-04-23</td>\n",
              "      <td>20</td>\n",
              "      <td>2020</td>\n",
              "      <td>04</td>\n",
              "      <td>0.000</td>\n",
              "      <td>0.0</td>\n",
              "      <td>1.000</td>\n",
              "      <td>0.000</td>\n",
              "      <td>Neuter</td>\n",
              "    </tr>\n",
              "    <tr>\n",
              "      <th>8</th>\n",
              "      <td>0</td>\n",
              "      <td>0</td>\n",
              "      <td>because anti-vaxxers have no sense</td>\n",
              "      <td>2020-04-24</td>\n",
              "      <td>23</td>\n",
              "      <td>2020</td>\n",
              "      <td>04</td>\n",
              "      <td>0.355</td>\n",
              "      <td>0.0</td>\n",
              "      <td>0.645</td>\n",
              "      <td>-0.296</td>\n",
              "      <td>Negative</td>\n",
              "    </tr>\n",
              "    <tr>\n",
              "      <th>9</th>\n",
              "      <td>0</td>\n",
              "      <td>0</td>\n",
              "      <td>what do you mean by your op i am fairly new to...</td>\n",
              "      <td>2019-03-25</td>\n",
              "      <td>02</td>\n",
              "      <td>2019</td>\n",
              "      <td>03</td>\n",
              "      <td>0.000</td>\n",
              "      <td>0.0</td>\n",
              "      <td>1.000</td>\n",
              "      <td>0.000</td>\n",
              "      <td>Neuter</td>\n",
              "    </tr>\n",
              "    <tr>\n",
              "      <th>10</th>\n",
              "      <td>1</td>\n",
              "      <td>0</td>\n",
              "      <td>when they say theres no thimerasol, they mean ...</td>\n",
              "      <td>2019-03-25</td>\n",
              "      <td>02</td>\n",
              "      <td>2019</td>\n",
              "      <td>03</td>\n",
              "      <td>0.136</td>\n",
              "      <td>0.0</td>\n",
              "      <td>0.864</td>\n",
              "      <td>-0.296</td>\n",
              "      <td>Negative</td>\n",
              "    </tr>\n",
              "  </tbody>\n",
              "</table>\n",
              "</div>"
            ],
            "text/plain": [
              "    score  comms_num  ... Compound Score  Sentimen\n",
              "6       1          0  ...          0.000    Neuter\n",
              "7      10          8  ...          0.000    Neuter\n",
              "8       0          0  ...         -0.296  Negative\n",
              "9       0          0  ...          0.000    Neuter\n",
              "10      1          0  ...         -0.296  Negative\n",
              "\n",
              "[5 rows x 12 columns]"
            ]
          },
          "metadata": {
            "tags": []
          },
          "execution_count": 746
        }
      ]
    },
    {
      "cell_type": "code",
      "metadata": {
        "id": "fPFeaKppFDjZ",
        "colab": {
          "base_uri": "https://localhost:8080/",
          "height": 317
        },
        "outputId": "06d4e781-3baa-48cf-bd01-077b7eea6273"
      },
      "source": [
        "dados['Sentimen'].value_counts().plot(kind='bar')"
      ],
      "execution_count": 801,
      "outputs": [
        {
          "output_type": "execute_result",
          "data": {
            "text/plain": [
              "<matplotlib.axes._subplots.AxesSubplot at 0x7f87f52e5850>"
            ]
          },
          "metadata": {
            "tags": []
          },
          "execution_count": 801
        },
        {
          "output_type": "display_data",
          "data": {
            "image/png": "[encoded data removed]",
            "text/plain": [
              "<Figure size 432x288 with 1 Axes>"
            ]
          },
          "metadata": {
            "tags": [],
            "needs_background": "light"
          }
        }
      ]
    },
    {
      "cell_type": "code",
      "metadata": {
        "colab": {
          "base_uri": "https://localhost:8080/",
          "height": 296
        },
        "id": "R3uI7qTujfMs",
        "outputId": "ef100342-c511-4f9a-aaa5-3005a5c60074"
      },
      "source": [
        "sns.histplot(dados['Compound Score'], bins=11)"
      ],
      "execution_count": 861,
      "outputs": [
        {
          "output_type": "execute_result",
          "data": {
            "text/plain": [
              "<matplotlib.axes._subplots.AxesSubplot at 0x7f87f3dc30d0>"
            ]
          },
          "metadata": {
            "tags": []
          },
          "execution_count": 861
        },
        {
          "output_type": "display_data",
          "data": {
            "image/png": "[encoded data removed]",
            "text/plain": [
              "<Figure size 432x288 with 1 Axes>"
            ]
          },
          "metadata": {
            "tags": [],
            "needs_background": "light"
          }
        }
      ]
    },
    {
      "cell_type": "code",
      "metadata": {
        "colab": {
          "base_uri": "https://localhost:8080/",
          "height": 276
        },
        "id": "JbKbrnkhRJA8",
        "outputId": "b65be482-12de-4158-8efa-98e768e6e7d4"
      },
      "source": [
        "dados = pd.concat([dados, pd.get_dummies(dados['Sentimen'])], axis=1)\n",
        "dados.head()"
      ],
      "execution_count": 802,
      "outputs": [
        {
          "output_type": "execute_result",
          "data": {
            "text/html": [
              "<div>\n",
              "<style scoped>\n",
              "    .dataframe tbody tr th:only-of-type {\n",
              "        vertical-align: middle;\n",
              "    }\n",
              "\n",
              "    .dataframe tbody tr th {\n",
              "        vertical-align: top;\n",
              "    }\n",
              "\n",
              "    .dataframe thead th {\n",
              "        text-align: right;\n",
              "    }\n",
              "</style>\n",
              "<table border=\"1\" class=\"dataframe\">\n",
              "  <thead>\n",
              "    <tr style=\"text-align: right;\">\n",
              "      <th></th>\n",
              "      <th>score</th>\n",
              "      <th>comms_num</th>\n",
              "      <th>body</th>\n",
              "      <th>date</th>\n",
              "      <th>hour</th>\n",
              "      <th>year</th>\n",
              "      <th>month</th>\n",
              "      <th>Negative Score</th>\n",
              "      <th>Positivo Score</th>\n",
              "      <th>Neuter Score</th>\n",
              "      <th>Compound Score</th>\n",
              "      <th>Sentimen</th>\n",
              "      <th>Negative</th>\n",
              "      <th>Neuter</th>\n",
              "      <th>Positive</th>\n",
              "    </tr>\n",
              "  </thead>\n",
              "  <tbody>\n",
              "    <tr>\n",
              "      <th>6</th>\n",
              "      <td>1</td>\n",
              "      <td>0</td>\n",
              "      <td>your op its not a myth only one vaccine contai...</td>\n",
              "      <td>2019-03-25</td>\n",
              "      <td>02</td>\n",
              "      <td>2019</td>\n",
              "      <td>03</td>\n",
              "      <td>0.000</td>\n",
              "      <td>0.0</td>\n",
              "      <td>1.000</td>\n",
              "      <td>0.000</td>\n",
              "      <td>Neuter</td>\n",
              "      <td>0</td>\n",
              "      <td>1</td>\n",
              "      <td>0</td>\n",
              "    </tr>\n",
              "    <tr>\n",
              "      <th>7</th>\n",
              "      <td>10</td>\n",
              "      <td>8</td>\n",
              "      <td>youtubezbkvcpbnnku</td>\n",
              "      <td>2020-04-23</td>\n",
              "      <td>20</td>\n",
              "      <td>2020</td>\n",
              "      <td>04</td>\n",
              "      <td>0.000</td>\n",
              "      <td>0.0</td>\n",
              "      <td>1.000</td>\n",
              "      <td>0.000</td>\n",
              "      <td>Neuter</td>\n",
              "      <td>0</td>\n",
              "      <td>1</td>\n",
              "      <td>0</td>\n",
              "    </tr>\n",
              "    <tr>\n",
              "      <th>8</th>\n",
              "      <td>0</td>\n",
              "      <td>0</td>\n",
              "      <td>because anti-vaxxers have no sense</td>\n",
              "      <td>2020-04-24</td>\n",
              "      <td>23</td>\n",
              "      <td>2020</td>\n",
              "      <td>04</td>\n",
              "      <td>0.355</td>\n",
              "      <td>0.0</td>\n",
              "      <td>0.645</td>\n",
              "      <td>-0.296</td>\n",
              "      <td>Negative</td>\n",
              "      <td>1</td>\n",
              "      <td>0</td>\n",
              "      <td>0</td>\n",
              "    </tr>\n",
              "    <tr>\n",
              "      <th>9</th>\n",
              "      <td>0</td>\n",
              "      <td>0</td>\n",
              "      <td>what do you mean by your op i am fairly new to...</td>\n",
              "      <td>2019-03-25</td>\n",
              "      <td>02</td>\n",
              "      <td>2019</td>\n",
              "      <td>03</td>\n",
              "      <td>0.000</td>\n",
              "      <td>0.0</td>\n",
              "      <td>1.000</td>\n",
              "      <td>0.000</td>\n",
              "      <td>Neuter</td>\n",
              "      <td>0</td>\n",
              "      <td>1</td>\n",
              "      <td>0</td>\n",
              "    </tr>\n",
              "    <tr>\n",
              "      <th>10</th>\n",
              "      <td>1</td>\n",
              "      <td>0</td>\n",
              "      <td>when they say theres no thimerasol, they mean ...</td>\n",
              "      <td>2019-03-25</td>\n",
              "      <td>02</td>\n",
              "      <td>2019</td>\n",
              "      <td>03</td>\n",
              "      <td>0.136</td>\n",
              "      <td>0.0</td>\n",
              "      <td>0.864</td>\n",
              "      <td>-0.296</td>\n",
              "      <td>Negative</td>\n",
              "      <td>1</td>\n",
              "      <td>0</td>\n",
              "      <td>0</td>\n",
              "    </tr>\n",
              "  </tbody>\n",
              "</table>\n",
              "</div>"
            ],
            "text/plain": [
              "    score  comms_num  ... Neuter Positive\n",
              "6       1          0  ...      1        0\n",
              "7      10          8  ...      1        0\n",
              "8       0          0  ...      0        0\n",
              "9       0          0  ...      1        0\n",
              "10      1          0  ...      0        0\n",
              "\n",
              "[5 rows x 15 columns]"
            ]
          },
          "metadata": {
            "tags": []
          },
          "execution_count": 802
        }
      ]
    },
    {
      "cell_type": "code",
      "metadata": {
        "colab": {
          "base_uri": "https://localhost:8080/",
          "height": 332
        },
        "id": "tgnzO0K5Yhgs",
        "outputId": "eeef5b2c-7da9-4206-bd23-42d7e180ae45"
      },
      "source": [
        "dados2 = dados.groupby('year').mean()\n",
        "dados2"
      ],
      "execution_count": 812,
      "outputs": [
        {
          "output_type": "execute_result",
          "data": {
            "text/html": [
              "<div>\n",
              "<style scoped>\n",
              "    .dataframe tbody tr th:only-of-type {\n",
              "        vertical-align: middle;\n",
              "    }\n",
              "\n",
              "    .dataframe tbody tr th {\n",
              "        vertical-align: top;\n",
              "    }\n",
              "\n",
              "    .dataframe thead th {\n",
              "        text-align: right;\n",
              "    }\n",
              "</style>\n",
              "<table border=\"1\" class=\"dataframe\">\n",
              "  <thead>\n",
              "    <tr style=\"text-align: right;\">\n",
              "      <th></th>\n",
              "      <th>score</th>\n",
              "      <th>comms_num</th>\n",
              "      <th>Negative Score</th>\n",
              "      <th>Positivo Score</th>\n",
              "      <th>Neuter Score</th>\n",
              "      <th>Compound Score</th>\n",
              "      <th>Negative</th>\n",
              "      <th>Neuter</th>\n",
              "      <th>Positive</th>\n",
              "    </tr>\n",
              "    <tr>\n",
              "      <th>year</th>\n",
              "      <th></th>\n",
              "      <th></th>\n",
              "      <th></th>\n",
              "      <th></th>\n",
              "      <th></th>\n",
              "      <th></th>\n",
              "      <th></th>\n",
              "      <th></th>\n",
              "      <th></th>\n",
              "    </tr>\n",
              "  </thead>\n",
              "  <tbody>\n",
              "    <tr>\n",
              "      <th>2014</th>\n",
              "      <td>4.375000</td>\n",
              "      <td>5.625000</td>\n",
              "      <td>0.123500</td>\n",
              "      <td>0.082375</td>\n",
              "      <td>0.794250</td>\n",
              "      <td>-0.163550</td>\n",
              "      <td>0.500000</td>\n",
              "      <td>0.125000</td>\n",
              "      <td>0.375000</td>\n",
              "    </tr>\n",
              "    <tr>\n",
              "      <th>2015</th>\n",
              "      <td>0.000000</td>\n",
              "      <td>3.000000</td>\n",
              "      <td>0.079000</td>\n",
              "      <td>0.000000</td>\n",
              "      <td>0.921000</td>\n",
              "      <td>-0.340000</td>\n",
              "      <td>1.000000</td>\n",
              "      <td>0.000000</td>\n",
              "      <td>0.000000</td>\n",
              "    </tr>\n",
              "    <tr>\n",
              "      <th>2016</th>\n",
              "      <td>9.000000</td>\n",
              "      <td>4.500000</td>\n",
              "      <td>0.071000</td>\n",
              "      <td>0.067000</td>\n",
              "      <td>0.862000</td>\n",
              "      <td>0.135000</td>\n",
              "      <td>0.500000</td>\n",
              "      <td>0.000000</td>\n",
              "      <td>0.500000</td>\n",
              "    </tr>\n",
              "    <tr>\n",
              "      <th>2017</th>\n",
              "      <td>1.000000</td>\n",
              "      <td>5.500000</td>\n",
              "      <td>0.053500</td>\n",
              "      <td>0.098500</td>\n",
              "      <td>0.847500</td>\n",
              "      <td>0.567750</td>\n",
              "      <td>0.000000</td>\n",
              "      <td>0.000000</td>\n",
              "      <td>1.000000</td>\n",
              "    </tr>\n",
              "    <tr>\n",
              "      <th>2018</th>\n",
              "      <td>13.000000</td>\n",
              "      <td>3.000000</td>\n",
              "      <td>0.047200</td>\n",
              "      <td>0.211600</td>\n",
              "      <td>0.741200</td>\n",
              "      <td>0.434240</td>\n",
              "      <td>0.000000</td>\n",
              "      <td>0.400000</td>\n",
              "      <td>0.600000</td>\n",
              "    </tr>\n",
              "    <tr>\n",
              "      <th>2019</th>\n",
              "      <td>1.806405</td>\n",
              "      <td>1.149927</td>\n",
              "      <td>0.089159</td>\n",
              "      <td>0.115640</td>\n",
              "      <td>0.789390</td>\n",
              "      <td>-0.022755</td>\n",
              "      <td>0.388646</td>\n",
              "      <td>0.231441</td>\n",
              "      <td>0.379913</td>\n",
              "    </tr>\n",
              "    <tr>\n",
              "      <th>2020</th>\n",
              "      <td>1.872792</td>\n",
              "      <td>0.360424</td>\n",
              "      <td>0.114703</td>\n",
              "      <td>0.109286</td>\n",
              "      <td>0.772456</td>\n",
              "      <td>0.014106</td>\n",
              "      <td>0.385159</td>\n",
              "      <td>0.236749</td>\n",
              "      <td>0.378092</td>\n",
              "    </tr>\n",
              "    <tr>\n",
              "      <th>2021</th>\n",
              "      <td>1.920000</td>\n",
              "      <td>0.464000</td>\n",
              "      <td>0.096128</td>\n",
              "      <td>0.089824</td>\n",
              "      <td>0.814088</td>\n",
              "      <td>0.012410</td>\n",
              "      <td>0.360000</td>\n",
              "      <td>0.272000</td>\n",
              "      <td>0.368000</td>\n",
              "    </tr>\n",
              "  </tbody>\n",
              "</table>\n",
              "</div>"
            ],
            "text/plain": [
              "          score  comms_num  Negative Score  ...  Negative    Neuter  Positive\n",
              "year                                        ...                              \n",
              "2014   4.375000   5.625000        0.123500  ...  0.500000  0.125000  0.375000\n",
              "2015   0.000000   3.000000        0.079000  ...  1.000000  0.000000  0.000000\n",
              "2016   9.000000   4.500000        0.071000  ...  0.500000  0.000000  0.500000\n",
              "2017   1.000000   5.500000        0.053500  ...  0.000000  0.000000  1.000000\n",
              "2018  13.000000   3.000000        0.047200  ...  0.000000  0.400000  0.600000\n",
              "2019   1.806405   1.149927        0.089159  ...  0.388646  0.231441  0.379913\n",
              "2020   1.872792   0.360424        0.114703  ...  0.385159  0.236749  0.378092\n",
              "2021   1.920000   0.464000        0.096128  ...  0.360000  0.272000  0.368000\n",
              "\n",
              "[8 rows x 9 columns]"
            ]
          },
          "metadata": {
            "tags": []
          },
          "execution_count": 812
        }
      ]
    },
    {
      "cell_type": "code",
      "metadata": {
        "colab": {
          "base_uri": "https://localhost:8080/",
          "height": 409
        },
        "id": "6jWzFHreeIjQ",
        "outputId": "ecbafe44-f540-40ac-9d1d-084de1c8a46e"
      },
      "source": [
        "ax, fig = plt.subplots(figsize=(12,6))\n",
        "plt.plot(dados2.index, dados2['Negative Score'], label='Negative')\n",
        "plt.plot(dados2.index, dados2['Neuter Score'], label='Neuter')\n",
        "plt.plot(dados2.index, dados2['Positivo Score'], label='Positive')\n",
        "fig.spines['right'].set_visible(False)\n",
        "fig.spines['top'].set_visible(False)\n",
        "plt.title('Mean Composition by Year', fontsize=12, color='grey', style='oblique', fontweight='bold')\n",
        "plt.xticks(color='grey', style='oblique', fontweight='bold')\n",
        "plt.yticks(color='grey', style='oblique', fontweight='bold')\n",
        "plt.xlabel(\"Year\", fontsize=15, color='grey', style='oblique', fontweight='bold')\n",
        "plt.ylabel(\"Composition\", fontsize=15, color='grey', style='oblique', fontweight='bold')\n",
        "plt.legend(fontsize=12)\n",
        "plt.show()"
      ],
      "execution_count": 841,
      "outputs": [
        {
          "output_type": "display_data",
          "data": {
            "image/png": "[encoded data removed]",
            "text/plain": [
              "<Figure size 864x432 with 1 Axes>"
            ]
          },
          "metadata": {
            "tags": [],
            "needs_background": "dark"
          }
        }
      ]
    },
    {
      "cell_type": "code",
      "metadata": {
        "colab": {
          "base_uri": "https://localhost:8080/",
          "height": 238
        },
        "id": "mEfrhrXMhpzb",
        "outputId": "071ff5a6-9c42-41c0-e9ee-04b5f0f0997e"
      },
      "source": [
        "dados3 = dados.groupby('hour').mean()\n",
        "dados3.head()"
      ],
      "execution_count": 830,
      "outputs": [
        {
          "output_type": "execute_result",
          "data": {
            "text/html": [
              "<div>\n",
              "<style scoped>\n",
              "    .dataframe tbody tr th:only-of-type {\n",
              "        vertical-align: middle;\n",
              "    }\n",
              "\n",
              "    .dataframe tbody tr th {\n",
              "        vertical-align: top;\n",
              "    }\n",
              "\n",
              "    .dataframe thead th {\n",
              "        text-align: right;\n",
              "    }\n",
              "</style>\n",
              "<table border=\"1\" class=\"dataframe\">\n",
              "  <thead>\n",
              "    <tr style=\"text-align: right;\">\n",
              "      <th></th>\n",
              "      <th>score</th>\n",
              "      <th>comms_num</th>\n",
              "      <th>Negative Score</th>\n",
              "      <th>Positivo Score</th>\n",
              "      <th>Neuter Score</th>\n",
              "      <th>Compound Score</th>\n",
              "      <th>Negative</th>\n",
              "      <th>Neuter</th>\n",
              "      <th>Positive</th>\n",
              "    </tr>\n",
              "    <tr>\n",
              "      <th>hour</th>\n",
              "      <th></th>\n",
              "      <th></th>\n",
              "      <th></th>\n",
              "      <th></th>\n",
              "      <th></th>\n",
              "      <th></th>\n",
              "      <th></th>\n",
              "      <th></th>\n",
              "      <th></th>\n",
              "    </tr>\n",
              "  </thead>\n",
              "  <tbody>\n",
              "    <tr>\n",
              "      <th>00</th>\n",
              "      <td>1.632653</td>\n",
              "      <td>0.734694</td>\n",
              "      <td>0.093265</td>\n",
              "      <td>0.119184</td>\n",
              "      <td>0.787571</td>\n",
              "      <td>0.058290</td>\n",
              "      <td>0.326531</td>\n",
              "      <td>0.224490</td>\n",
              "      <td>0.448980</td>\n",
              "    </tr>\n",
              "    <tr>\n",
              "      <th>01</th>\n",
              "      <td>1.479167</td>\n",
              "      <td>0.229167</td>\n",
              "      <td>0.074938</td>\n",
              "      <td>0.160812</td>\n",
              "      <td>0.722562</td>\n",
              "      <td>0.156481</td>\n",
              "      <td>0.250000</td>\n",
              "      <td>0.208333</td>\n",
              "      <td>0.541667</td>\n",
              "    </tr>\n",
              "    <tr>\n",
              "      <th>02</th>\n",
              "      <td>1.828125</td>\n",
              "      <td>0.656250</td>\n",
              "      <td>0.091328</td>\n",
              "      <td>0.080813</td>\n",
              "      <td>0.827766</td>\n",
              "      <td>-0.055700</td>\n",
              "      <td>0.359375</td>\n",
              "      <td>0.375000</td>\n",
              "      <td>0.265625</td>\n",
              "    </tr>\n",
              "    <tr>\n",
              "      <th>03</th>\n",
              "      <td>1.880000</td>\n",
              "      <td>0.180000</td>\n",
              "      <td>0.114060</td>\n",
              "      <td>0.109160</td>\n",
              "      <td>0.776820</td>\n",
              "      <td>-0.132310</td>\n",
              "      <td>0.500000</td>\n",
              "      <td>0.180000</td>\n",
              "      <td>0.320000</td>\n",
              "    </tr>\n",
              "    <tr>\n",
              "      <th>04</th>\n",
              "      <td>1.903846</td>\n",
              "      <td>4.096154</td>\n",
              "      <td>0.098077</td>\n",
              "      <td>0.122885</td>\n",
              "      <td>0.779038</td>\n",
              "      <td>-0.068212</td>\n",
              "      <td>0.500000</td>\n",
              "      <td>0.115385</td>\n",
              "      <td>0.384615</td>\n",
              "    </tr>\n",
              "  </tbody>\n",
              "</table>\n",
              "</div>"
            ],
            "text/plain": [
              "         score  comms_num  Negative Score  ...  Negative    Neuter  Positive\n",
              "hour                                       ...                              \n",
              "00    1.632653   0.734694        0.093265  ...  0.326531  0.224490  0.448980\n",
              "01    1.479167   0.229167        0.074938  ...  0.250000  0.208333  0.541667\n",
              "02    1.828125   0.656250        0.091328  ...  0.359375  0.375000  0.265625\n",
              "03    1.880000   0.180000        0.114060  ...  0.500000  0.180000  0.320000\n",
              "04    1.903846   4.096154        0.098077  ...  0.500000  0.115385  0.384615\n",
              "\n",
              "[5 rows x 9 columns]"
            ]
          },
          "metadata": {
            "tags": []
          },
          "execution_count": 830
        }
      ]
    },
    {
      "cell_type": "code",
      "metadata": {
        "colab": {
          "base_uri": "https://localhost:8080/",
          "height": 409
        },
        "id": "5ee5x7YBh3G6",
        "outputId": "5a091b68-6be3-43ff-feec-3e76c1152ecb"
      },
      "source": [
        "ax, fig = plt.subplots(figsize=(12,6))\n",
        "plt.plot(dados3.index, dados3['Negative Score'], label='Negative')\n",
        "plt.plot(dados3.index, dados3['Neuter Score'], label='Neuter')\n",
        "plt.plot(dados3.index, dados3['Positivo Score'], label='Positive')\n",
        "fig.spines['right'].set_visible(False)\n",
        "fig.spines['top'].set_visible(False)\n",
        "plt.title('Mean Composition by Hour', fontsize=12, color='grey', style='oblique', fontweight='bold')\n",
        "plt.xticks(color='grey', style='oblique', fontweight='bold')\n",
        "plt.yticks(color='grey', style='oblique', fontweight='bold')\n",
        "plt.xlabel(\"Year\", fontsize=15, color='grey', style='oblique', fontweight='bold')\n",
        "plt.ylabel(\"Composition\", fontsize=15, color='grey', style='oblique', fontweight='bold')\n",
        "plt.legend(fontsize=12)\n",
        "plt.show()"
      ],
      "execution_count": 842,
      "outputs": [
        {
          "output_type": "display_data",
          "data": {
            "image/png": "[encoded data removed]",
            "text/plain": [
              "<Figure size 864x432 with 1 Axes>"
            ]
          },
          "metadata": {
            "tags": [],
            "needs_background": "dark"
          }
        }
      ]
    },
    {
      "cell_type": "code",
      "metadata": {
        "colab": {
          "base_uri": "https://localhost:8080/",
          "height": 238
        },
        "id": "6X2JME9cjFU0",
        "outputId": "5365b551-24bd-456c-fa8b-ce098dfc9da4"
      },
      "source": [
        "dados4 = dados.groupby('month').mean()\n",
        "dados4.head()"
      ],
      "execution_count": 843,
      "outputs": [
        {
          "output_type": "execute_result",
          "data": {
            "text/html": [
              "<div>\n",
              "<style scoped>\n",
              "    .dataframe tbody tr th:only-of-type {\n",
              "        vertical-align: middle;\n",
              "    }\n",
              "\n",
              "    .dataframe tbody tr th {\n",
              "        vertical-align: top;\n",
              "    }\n",
              "\n",
              "    .dataframe thead th {\n",
              "        text-align: right;\n",
              "    }\n",
              "</style>\n",
              "<table border=\"1\" class=\"dataframe\">\n",
              "  <thead>\n",
              "    <tr style=\"text-align: right;\">\n",
              "      <th></th>\n",
              "      <th>score</th>\n",
              "      <th>comms_num</th>\n",
              "      <th>Negative Score</th>\n",
              "      <th>Positivo Score</th>\n",
              "      <th>Neuter Score</th>\n",
              "      <th>Compound Score</th>\n",
              "      <th>Negative</th>\n",
              "      <th>Neuter</th>\n",
              "      <th>Positive</th>\n",
              "    </tr>\n",
              "    <tr>\n",
              "      <th>month</th>\n",
              "      <th></th>\n",
              "      <th></th>\n",
              "      <th></th>\n",
              "      <th></th>\n",
              "      <th></th>\n",
              "      <th></th>\n",
              "      <th></th>\n",
              "      <th></th>\n",
              "      <th></th>\n",
              "    </tr>\n",
              "  </thead>\n",
              "  <tbody>\n",
              "    <tr>\n",
              "      <th>01</th>\n",
              "      <td>2.584416</td>\n",
              "      <td>1.012987</td>\n",
              "      <td>0.105201</td>\n",
              "      <td>0.112338</td>\n",
              "      <td>0.782448</td>\n",
              "      <td>0.062350</td>\n",
              "      <td>0.363636</td>\n",
              "      <td>0.227273</td>\n",
              "      <td>0.409091</td>\n",
              "    </tr>\n",
              "    <tr>\n",
              "      <th>02</th>\n",
              "      <td>2.183099</td>\n",
              "      <td>1.676056</td>\n",
              "      <td>0.099577</td>\n",
              "      <td>0.064592</td>\n",
              "      <td>0.835817</td>\n",
              "      <td>-0.034115</td>\n",
              "      <td>0.394366</td>\n",
              "      <td>0.281690</td>\n",
              "      <td>0.323944</td>\n",
              "    </tr>\n",
              "    <tr>\n",
              "      <th>03</th>\n",
              "      <td>1.373239</td>\n",
              "      <td>1.866197</td>\n",
              "      <td>0.095486</td>\n",
              "      <td>0.097577</td>\n",
              "      <td>0.806958</td>\n",
              "      <td>-0.030932</td>\n",
              "      <td>0.394366</td>\n",
              "      <td>0.225352</td>\n",
              "      <td>0.380282</td>\n",
              "    </tr>\n",
              "    <tr>\n",
              "      <th>04</th>\n",
              "      <td>1.435065</td>\n",
              "      <td>0.941558</td>\n",
              "      <td>0.082942</td>\n",
              "      <td>0.097552</td>\n",
              "      <td>0.800026</td>\n",
              "      <td>0.002403</td>\n",
              "      <td>0.363636</td>\n",
              "      <td>0.279221</td>\n",
              "      <td>0.357143</td>\n",
              "    </tr>\n",
              "    <tr>\n",
              "      <th>05</th>\n",
              "      <td>1.745098</td>\n",
              "      <td>0.411765</td>\n",
              "      <td>0.098229</td>\n",
              "      <td>0.103654</td>\n",
              "      <td>0.791569</td>\n",
              "      <td>-0.006408</td>\n",
              "      <td>0.352941</td>\n",
              "      <td>0.281046</td>\n",
              "      <td>0.366013</td>\n",
              "    </tr>\n",
              "  </tbody>\n",
              "</table>\n",
              "</div>"
            ],
            "text/plain": [
              "          score  comms_num  Negative Score  ...  Negative    Neuter  Positive\n",
              "month                                       ...                              \n",
              "01     2.584416   1.012987        0.105201  ...  0.363636  0.227273  0.409091\n",
              "02     2.183099   1.676056        0.099577  ...  0.394366  0.281690  0.323944\n",
              "03     1.373239   1.866197        0.095486  ...  0.394366  0.225352  0.380282\n",
              "04     1.435065   0.941558        0.082942  ...  0.363636  0.279221  0.357143\n",
              "05     1.745098   0.411765        0.098229  ...  0.352941  0.281046  0.366013\n",
              "\n",
              "[5 rows x 9 columns]"
            ]
          },
          "metadata": {
            "tags": []
          },
          "execution_count": 843
        }
      ]
    },
    {
      "cell_type": "code",
      "metadata": {
        "colab": {
          "base_uri": "https://localhost:8080/",
          "height": 409
        },
        "id": "cj1e-ig6jMjm",
        "outputId": "eed17412-4716-4fa2-e0a5-278b6f345127"
      },
      "source": [
        "ax, fig = plt.subplots(figsize=(12,6))\n",
        "plt.plot(dados4.index, dados4['Negative Score'], label='Negative')\n",
        "plt.plot(dados4.index, dados4['Neuter Score'], label='Neuter')\n",
        "plt.plot(dados4.index, dados4['Positivo Score'], label='Positive')\n",
        "fig.spines['right'].set_visible(False)\n",
        "fig.spines['top'].set_visible(False)\n",
        "plt.title('Mean Composition by Month', fontsize=12, color='grey', style='oblique', fontweight='bold')\n",
        "plt.xticks(color='grey', style='oblique', fontweight='bold')\n",
        "plt.yticks(color='grey', style='oblique', fontweight='bold')\n",
        "plt.xlabel(\"Year\", fontsize=15, color='grey', style='oblique', fontweight='bold')\n",
        "plt.ylabel(\"Composition\", fontsize=15, color='grey', style='oblique', fontweight='bold')\n",
        "plt.legend(fontsize=12)\n",
        "plt.show()"
      ],
      "execution_count": 844,
      "outputs": [
        {
          "output_type": "display_data",
          "data": {
            "image/png": "[encoded data removed]",
            "text/plain": [
              "<Figure size 864x432 with 1 Axes>"
            ]
          },
          "metadata": {
            "tags": [],
            "needs_background": "dark"
          }
        }
      ]
    }
  ]
}